{
 "cells": [
  {
   "cell_type": "code",
   "execution_count": 14,
   "metadata": {},
   "outputs": [
    {
     "name": "stdout",
     "output_type": "stream",
     "text": [
      "ODE with following random coefficients: [-3  2  1]and b0: [0.50495546]\n",
      "matrix A: [[ 0.  1.]\n",
      " [ 3. -2.]]\n",
      "matrix B: [0.         0.50495546]\n"
     ]
    }
   ],
   "source": [
    "import numpy as np\n",
    "\n",
    "k = 2\n",
    "def convert_to_SS(a, b0):\n",
    "\n",
    "    A = np.zeros((k,k))\n",
    "    A[0: (k - 1), 1:k] = np.eye(k - 1) # 1..n-1 rows and 2..k columns are identity matrix\n",
    "    A[k - 1, 0:] = -a #last row is a multiplied by -1, because of right hand side\n",
    "\n",
    "    B = np.zeros(k)\n",
    "    B[k - 1] = b0\n",
    "    return A, B\n",
    "\n",
    "    \n",
    "a = np.array([-3,2,1]) # k + 1, because indexes are from 0 to k\n",
    "b0 = np.random.rand(1)\n",
    "print(\"ODE with following random coefficients:\", a, end = '')\n",
    "print(\"and b0:\",b0)\n",
    "\n",
    "\n",
    "b0 = b0/a[k]\n",
    "a = a[:k] / a[k] # a0 to ak-1 divided to a_k \n",
    "\n",
    "\n",
    "A,B = convert_to_SS(a,b0)\n",
    "\n",
    "print(\"matrix A:\", A)\n",
    "print(\"matrix B:\", B)\n"
   ]
  },
  {
   "cell_type": "code",
   "execution_count": 15,
   "metadata": {},
   "outputs": [
    {
     "data": {
      "text/plain": [
       "Text(0, 0.5, 'x')"
      ]
     },
     "execution_count": 15,
     "metadata": {},
     "output_type": "execute_result"
    },
    {
     "data": {
      "image/png": "[encoded data removed]",
      "text/plain": [
       "<Figure size 432x288 with 2 Axes>"
      ]
     },
     "metadata": {
      "needs_background": "light"
     },
     "output_type": "display_data"
    }
   ],
   "source": [
    "from scipy.integrate import odeint\n",
    "import matplotlib.pyplot as plt\n",
    "import math\n",
    "def rhs(t):\n",
    "    return math.sin(4*t)\n",
    "\n",
    "def solveODE(x, t):\n",
    "    dx = np.zeros(k)\n",
    "    dx[0:(k-1)] = x[1:k]    \n",
    "    dx[k-1] = -a.dot(x) + rhs(t)\n",
    "    return dx\n",
    "\n",
    "def solveSS(x, t):\n",
    "    return A.dot(x) + rhs(t)\n",
    "\n",
    "t = np.linspace(0, 10, 5000)\n",
    "x0 = np.array([3, 2])\n",
    "\n",
    "sol1 = odeint(solveODE, x0, t)\n",
    "sol2 = odeint(solveSS, x0, t)\n",
    "\n",
    "\n",
    "plt.subplot(1,2,1)\n",
    "plt.plot(t, sol1)\n",
    "plt.xlabel('t')\n",
    "plt.ylabel('x')\n",
    "\n",
    "\n",
    "plt.subplot(1,2,2)\n",
    "plt.plot(t, sol1)\n",
    "plt.xlabel('t')\n",
    "plt.ylabel('x')"
   ]
  },
  {
   "cell_type": "code",
   "execution_count": 18,
   "metadata": {},
   "outputs": [
    {
     "name": "stdout",
     "output_type": "stream",
     "text": [
      "[ 1. -3.]\n"
     ]
    }
   ],
   "source": [
    "e, v = np.linalg.eig(A)\n",
    "print(e)"
   ]
  }
 ],
 "metadata": {
  "kernelspec": {
   "display_name": "Python 3",
   "language": "python",
   "name": "python3"
  },
  "language_info": {
   "codemirror_mode": {
    "name": "ipython",
    "version": 3
   },
   "file_extension": ".py",
   "mimetype": "text/x-python",
   "name": "python",
   "nbconvert_exporter": "python",
   "pygments_lexer": "ipython3",
   "version": "3.7.3"
  }
 },
 "nbformat": 4,
 "nbformat_minor": 2
}
